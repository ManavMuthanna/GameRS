{
 "cells": [
  {
   "cell_type": "code",
   "execution_count": 1,
   "id": "30084b4d",
   "metadata": {},
   "outputs": [],
   "source": [
    "import pandas as pd\n",
    "import numpy as np"
   ]
  },
  {
   "cell_type": "code",
   "execution_count": 2,
   "id": "0d7c1f87",
   "metadata": {},
   "outputs": [
    {
     "data": {
      "text/html": [
       "<div>\n",
       "<style scoped>\n",
       "    .dataframe tbody tr th:only-of-type {\n",
       "        vertical-align: middle;\n",
       "    }\n",
       "\n",
       "    .dataframe tbody tr th {\n",
       "        vertical-align: top;\n",
       "    }\n",
       "\n",
       "    .dataframe thead th {\n",
       "        text-align: right;\n",
       "    }\n",
       "</style>\n",
       "<table border=\"1\" class=\"dataframe\">\n",
       "  <thead>\n",
       "    <tr style=\"text-align: right;\">\n",
       "      <th></th>\n",
       "      <th>Index</th>\n",
       "      <th>Name</th>\n",
       "      <th>Link</th>\n",
       "      <th>Summary</th>\n",
       "      <th>Genres</th>\n",
       "      <th>Developer</th>\n",
       "      <th>Img_Link</th>\n",
       "    </tr>\n",
       "  </thead>\n",
       "  <tbody>\n",
       "    <tr>\n",
       "      <th>0</th>\n",
       "      <td>0</td>\n",
       "      <td>Disco Elysium: The Final Cut</td>\n",
       "      <td>https://www.metacritic.com/game/pc/disco-elysi...</td>\n",
       "      <td>Disco Elysium - The Final Cut is the definitiv...</td>\n",
       "      <td>Role-Playing,General,Western-Style</td>\n",
       "      <td>ZA/UM</td>\n",
       "      <td>https://static.metacritic.com/images/products/...</td>\n",
       "    </tr>\n",
       "    <tr>\n",
       "      <th>1</th>\n",
       "      <td>1</td>\n",
       "      <td>Half-Life 2</td>\n",
       "      <td>https://www.metacritic.com/game/pc/half-life-2</td>\n",
       "      <td>[Metacritic's 2004 PC Game of the Year]  By ta...</td>\n",
       "      <td>Action,Shooter,Shooter,First-Person,Sci-Fi,Sci...</td>\n",
       "      <td>ValveSoftware</td>\n",
       "      <td>https://static.metacritic.com/images/products/...</td>\n",
       "    </tr>\n",
       "    <tr>\n",
       "      <th>2</th>\n",
       "      <td>2</td>\n",
       "      <td>Grand Theft Auto V</td>\n",
       "      <td>https://www.metacritic.com/game/pc/grand-theft...</td>\n",
       "      <td>Los Santos: a sprawling sun-soaked metropolis ...</td>\n",
       "      <td>Modern,ActionAdventure,Open-World</td>\n",
       "      <td>RockstarNorth</td>\n",
       "      <td>https://static.metacritic.com/images/products/...</td>\n",
       "    </tr>\n",
       "    <tr>\n",
       "      <th>3</th>\n",
       "      <td>3</td>\n",
       "      <td>Out of the Park Baseball 2007</td>\n",
       "      <td>https://www.metacritic.com/game/pc/out-of-the-...</td>\n",
       "      <td>[Metacritic's 2007 PC Game of the Year]  OOTP ...</td>\n",
       "      <td>Sports,Traditional,Team,Baseball,Management,Ma...</td>\n",
       "      <td>SportsInteractive</td>\n",
       "      <td>https://static.metacritic.com/images/products/...</td>\n",
       "    </tr>\n",
       "    <tr>\n",
       "      <th>4</th>\n",
       "      <td>4</td>\n",
       "      <td>The Orange Box</td>\n",
       "      <td>https://www.metacritic.com/game/pc/the-orange-box</td>\n",
       "      <td>Games included in The Orange Box compilation: ...</td>\n",
       "      <td>Action,Miscellaneous,Shooter,Compilation,First...</td>\n",
       "      <td>ValveSoftware</td>\n",
       "      <td>https://static.metacritic.com/images/products/...</td>\n",
       "    </tr>\n",
       "  </tbody>\n",
       "</table>\n",
       "</div>"
      ],
      "text/plain": [
       "   Index                           Name  \\\n",
       "0      0   Disco Elysium: The Final Cut   \n",
       "1      1                    Half-Life 2   \n",
       "2      2             Grand Theft Auto V   \n",
       "3      3  Out of the Park Baseball 2007   \n",
       "4      4                 The Orange Box   \n",
       "\n",
       "                                                Link  \\\n",
       "0  https://www.metacritic.com/game/pc/disco-elysi...   \n",
       "1     https://www.metacritic.com/game/pc/half-life-2   \n",
       "2  https://www.metacritic.com/game/pc/grand-theft...   \n",
       "3  https://www.metacritic.com/game/pc/out-of-the-...   \n",
       "4  https://www.metacritic.com/game/pc/the-orange-box   \n",
       "\n",
       "                                             Summary  \\\n",
       "0  Disco Elysium - The Final Cut is the definitiv...   \n",
       "1  [Metacritic's 2004 PC Game of the Year]  By ta...   \n",
       "2  Los Santos: a sprawling sun-soaked metropolis ...   \n",
       "3  [Metacritic's 2007 PC Game of the Year]  OOTP ...   \n",
       "4  Games included in The Orange Box compilation: ...   \n",
       "\n",
       "                                              Genres          Developer  \\\n",
       "0                 Role-Playing,General,Western-Style              ZA/UM   \n",
       "1  Action,Shooter,Shooter,First-Person,Sci-Fi,Sci...      ValveSoftware   \n",
       "2                  Modern,ActionAdventure,Open-World      RockstarNorth   \n",
       "3  Sports,Traditional,Team,Baseball,Management,Ma...  SportsInteractive   \n",
       "4  Action,Miscellaneous,Shooter,Compilation,First...      ValveSoftware   \n",
       "\n",
       "                                            Img_Link  \n",
       "0  https://static.metacritic.com/images/products/...  \n",
       "1  https://static.metacritic.com/images/products/...  \n",
       "2  https://static.metacritic.com/images/products/...  \n",
       "3  https://static.metacritic.com/images/products/...  \n",
       "4  https://static.metacritic.com/images/products/...  "
      ]
     },
     "execution_count": 2,
     "metadata": {},
     "output_type": "execute_result"
    }
   ],
   "source": [
    "df = pd.read_csv(\"Dataset.csv\", lineterminator='\\n') \n",
    "df.rename( columns={'Unnamed: 0':'Index'}, inplace=True )\n",
    "df.head()"
   ]
  },
  {
   "cell_type": "code",
   "execution_count": 3,
   "id": "13f47fc4",
   "metadata": {},
   "outputs": [
    {
     "data": {
      "text/html": [
       "<div>\n",
       "<style scoped>\n",
       "    .dataframe tbody tr th:only-of-type {\n",
       "        vertical-align: middle;\n",
       "    }\n",
       "\n",
       "    .dataframe tbody tr th {\n",
       "        vertical-align: top;\n",
       "    }\n",
       "\n",
       "    .dataframe thead th {\n",
       "        text-align: right;\n",
       "    }\n",
       "</style>\n",
       "<table border=\"1\" class=\"dataframe\">\n",
       "  <thead>\n",
       "    <tr style=\"text-align: right;\">\n",
       "      <th></th>\n",
       "      <th>Index</th>\n",
       "    </tr>\n",
       "  </thead>\n",
       "  <tbody>\n",
       "    <tr>\n",
       "      <th>count</th>\n",
       "      <td>7122.000000</td>\n",
       "    </tr>\n",
       "    <tr>\n",
       "      <th>mean</th>\n",
       "      <td>3560.500000</td>\n",
       "    </tr>\n",
       "    <tr>\n",
       "      <th>std</th>\n",
       "      <td>2056.088641</td>\n",
       "    </tr>\n",
       "    <tr>\n",
       "      <th>min</th>\n",
       "      <td>0.000000</td>\n",
       "    </tr>\n",
       "    <tr>\n",
       "      <th>25%</th>\n",
       "      <td>1780.250000</td>\n",
       "    </tr>\n",
       "    <tr>\n",
       "      <th>50%</th>\n",
       "      <td>3560.500000</td>\n",
       "    </tr>\n",
       "    <tr>\n",
       "      <th>75%</th>\n",
       "      <td>5340.750000</td>\n",
       "    </tr>\n",
       "    <tr>\n",
       "      <th>max</th>\n",
       "      <td>7121.000000</td>\n",
       "    </tr>\n",
       "  </tbody>\n",
       "</table>\n",
       "</div>"
      ],
      "text/plain": [
       "             Index\n",
       "count  7122.000000\n",
       "mean   3560.500000\n",
       "std    2056.088641\n",
       "min       0.000000\n",
       "25%    1780.250000\n",
       "50%    3560.500000\n",
       "75%    5340.750000\n",
       "max    7121.000000"
      ]
     },
     "execution_count": 3,
     "metadata": {},
     "output_type": "execute_result"
    }
   ],
   "source": [
    "df.describe()"
   ]
  },
  {
   "cell_type": "code",
   "execution_count": 4,
   "id": "73548a7c",
   "metadata": {},
   "outputs": [
    {
     "data": {
      "text/plain": [
       "Index         0\n",
       "Name          0\n",
       "Link          0\n",
       "Summary      79\n",
       "Genres        0\n",
       "Developer    19\n",
       "Img_Link      0\n",
       "dtype: int64"
      ]
     },
     "execution_count": 4,
     "metadata": {},
     "output_type": "execute_result"
    }
   ],
   "source": [
    "df.isnull().sum()"
   ]
  },
  {
   "cell_type": "code",
   "execution_count": 5,
   "id": "ff5eeb91",
   "metadata": {},
   "outputs": [
    {
     "data": {
      "text/plain": [
       "Index         0\n",
       "Name          0\n",
       "Link          0\n",
       "Summary      79\n",
       "Genres        0\n",
       "Developer     0\n",
       "Img_Link      0\n",
       "dtype: int64"
      ]
     },
     "execution_count": 5,
     "metadata": {},
     "output_type": "execute_result"
    }
   ],
   "source": [
    "df[\"Developer\"].fillna(\"N/A\", inplace=True)\n",
    "df.isnull().sum()"
   ]
  },
  {
   "cell_type": "code",
   "execution_count": 6,
   "id": "aa89e838",
   "metadata": {},
   "outputs": [
    {
     "name": "stdout",
     "output_type": "stream",
     "text": [
      "<class 'pandas.core.frame.DataFrame'>\n",
      "RangeIndex: 7122 entries, 0 to 7121\n",
      "Data columns (total 7 columns):\n",
      " #   Column     Non-Null Count  Dtype \n",
      "---  ------     --------------  ----- \n",
      " 0   Index      7122 non-null   int64 \n",
      " 1   Name       7122 non-null   object\n",
      " 2   Link       7122 non-null   object\n",
      " 3   Summary    7043 non-null   object\n",
      " 4   Genres     7122 non-null   object\n",
      " 5   Developer  7122 non-null   object\n",
      " 6   Img_Link   7122 non-null   object\n",
      "dtypes: int64(1), object(6)\n",
      "memory usage: 389.6+ KB\n"
     ]
    }
   ],
   "source": [
    "df.info()"
   ]
  },
  {
   "cell_type": "code",
   "execution_count": 7,
   "id": "dc06d2ef",
   "metadata": {},
   "outputs": [
    {
     "data": {
      "text/plain": [
       "0    Disco Elysium - The Final Cut is the definitiv...\n",
       "1    [Metacritic's 2004 PC Game of the Year]  By ta...\n",
       "2    Los Santos: a sprawling sun-soaked metropolis ...\n",
       "3    [Metacritic's 2007 PC Game of the Year]  OOTP ...\n",
       "4    Games included in The Orange Box compilation: ...\n",
       "Name: Summary, dtype: object"
      ]
     },
     "execution_count": 7,
     "metadata": {},
     "output_type": "execute_result"
    }
   ],
   "source": [
    "df['Summary'].head()"
   ]
  },
  {
   "cell_type": "code",
   "execution_count": 8,
   "id": "ca9db27b",
   "metadata": {},
   "outputs": [],
   "source": [
    "df['tags'] = df[\"Summary\"] + df[\"Genres\"] + df[\"Developer\"]"
   ]
  },
  {
   "cell_type": "code",
   "execution_count": 9,
   "id": "03281366",
   "metadata": {},
   "outputs": [
    {
     "data": {
      "text/plain": [
       "(7122, 33634)"
      ]
     },
     "execution_count": 9,
     "metadata": {},
     "output_type": "execute_result"
    }
   ],
   "source": [
    "from sklearn.feature_extraction.text import TfidfVectorizer\n",
    "tfidf = TfidfVectorizer(stop_words='english')\n",
    "df['tags'] = df['tags'].fillna('')\n",
    "tfidf_matrix = tfidf.fit_transform(df['tags'])\n",
    "tfidf_matrix.shape"
   ]
  },
  {
   "cell_type": "code",
   "execution_count": 10,
   "id": "7f41fc33",
   "metadata": {},
   "outputs": [
    {
     "name": "stderr",
     "output_type": "stream",
     "text": [
      "C:\\Users\\Manav\\AppData\\Local\\Packages\\PythonSoftwareFoundation.Python.3.10_qbz5n2kfra8p0\\LocalCache\\local-packages\\Python310\\site-packages\\sklearn\\utils\\deprecation.py:87: FutureWarning: Function get_feature_names is deprecated; get_feature_names is deprecated in 1.0 and will be removed in 1.2. Please use get_feature_names_out instead.\n",
      "  warnings.warn(msg, category=FutureWarning)\n"
     ]
    },
    {
     "data": {
      "text/plain": [
       "['charlie',\n",
       " 'charlotte',\n",
       " 'charm',\n",
       " 'charmaine',\n",
       " 'charmed',\n",
       " 'charming',\n",
       " 'charms',\n",
       " 'charnel',\n",
       " 'charr',\n",
       " 'chart']"
      ]
     },
     "execution_count": 10,
     "metadata": {},
     "output_type": "execute_result"
    }
   ],
   "source": [
    "tfidf.get_feature_names()[6000:6010]"
   ]
  },
  {
   "cell_type": "code",
   "execution_count": 11,
   "id": "685bbcbf",
   "metadata": {},
   "outputs": [],
   "source": [
    "from sklearn.metrics.pairwise import linear_kernel\n",
    "\n",
    "cosine_sim = linear_kernel(tfidf_matrix, tfidf_matrix)"
   ]
  },
  {
   "cell_type": "code",
   "execution_count": 12,
   "id": "3cf6b038",
   "metadata": {},
   "outputs": [
    {
     "data": {
      "text/plain": [
       "(7122, 7122)"
      ]
     },
     "execution_count": 12,
     "metadata": {},
     "output_type": "execute_result"
    }
   ],
   "source": [
    "cosine_sim.shape"
   ]
  },
  {
   "cell_type": "code",
   "execution_count": 13,
   "id": "c1adf340",
   "metadata": {},
   "outputs": [],
   "source": [
    "indices = pd.Series(df.index, index=df['Name']).drop_duplicates()"
   ]
  },
  {
   "cell_type": "code",
   "execution_count": 14,
   "id": "1e0bc883",
   "metadata": {},
   "outputs": [
    {
     "data": {
      "text/plain": [
       "Name\n",
       "Disco Elysium: The Final Cut                      0\n",
       "Half-Life 2                                       1\n",
       "Grand Theft Auto V                                2\n",
       "Out of the Park Baseball 2007                     3\n",
       "The Orange Box                                    4\n",
       "Half-Life                                         5\n",
       "BioShock                                          6\n",
       "Baldur's Gate II: Shadows of Amn                  7\n",
       "Divinity: Original Sin II - Definitive Edition    8\n",
       "Portal 2                                          9\n",
       "dtype: int64"
      ]
     },
     "execution_count": 14,
     "metadata": {},
     "output_type": "execute_result"
    }
   ],
   "source": [
    "indices[:10]"
   ]
  },
  {
   "cell_type": "code",
   "execution_count": 15,
   "id": "b06b28e3",
   "metadata": {},
   "outputs": [],
   "source": [
    "def get_rec(name, cosine_sim=cosine_sim):\n",
    "    idx = indices[name]\n",
    "    sim_scores = list(enumerate(cosine_sim[idx]))\n",
    "    sim_scores = sorted(sim_scores, key=lambda x: x[1], reverse=True)\n",
    "    sim_scores = sim_scores[1:21]\n",
    "    game_indices = [i[0] for i in sim_scores]\n",
    "    return df['Name'].iloc[game_indices]"
   ]
  },
  {
   "cell_type": "code",
   "execution_count": 16,
   "id": "687c543c",
   "metadata": {},
   "outputs": [
    {
     "data": {
      "text/plain": [
       "625              Thronebreaker: The Witcher Tales\n",
       "375                           Monster Hunter Rise\n",
       "275                         Monster Hunter: World\n",
       "396                 The Witcher: Enhanced Edition\n",
       "1161      Monster Hunter Stories 2: Wings of Ruin\n",
       "4762                   The Witcher Adventure Game\n",
       "364              Monster Hunter: World - Iceborne\n",
       "293             The Witcher 2: Assassins of Kings\n",
       "2640                              Aegis Defenders\n",
       "2490               Borderlands 3: Bounty of Blood\n",
       "59      The Witcher 3: Wild Hunt - Blood and Wine\n",
       "401                 Monster Hunter Rise: Sunbreak\n",
       "1329                               Hunt: Showdown\n",
       "354                        Divinity: Original Sin\n",
       "668           Horizon Zero Dawn: Complete Edition\n",
       "27                      Divinity: Original Sin II\n",
       "2592                                 Eldest Souls\n",
       "6710                             Archangel (2002)\n",
       "5916      Hindsight 20/20: Wrath of the Raakshasa\n",
       "3664                               Book of Demons\n",
       "Name: Name, dtype: object"
      ]
     },
     "execution_count": 16,
     "metadata": {},
     "output_type": "execute_result"
    }
   ],
   "source": [
    "get_rec(\"The Witcher 3: Wild Hunt\")"
   ]
  },
  {
   "cell_type": "code",
   "execution_count": 17,
   "id": "42b18c50",
   "metadata": {},
   "outputs": [
    {
     "data": {
      "text/plain": [
       "5639                                 Need for Speed World\n",
       "786                                    Shift 2: Unleashed\n",
       "1194                   Need for Speed: Most Wanted (2005)\n",
       "4171                            Need for Speed: ProStreet\n",
       "2727                               Need for Speed: Rivals\n",
       "5753                          Juiced 2: Hot Import Nights\n",
       "6745                        Ford Bold Moves Street Racing\n",
       "4659                                       World Racing 2\n",
       "1990       Need for Speed: Most Wanted - A Criterion Game\n",
       "4405                              Need for Speed: The Run\n",
       "1424    TOCA Race Driver 2: The Ultimate Racing Simulator\n",
       "1111                        Need for Speed: Underground 2\n",
       "5829                                           Test Drive\n",
       "6651                                          Ford Racing\n",
       "1825          Street Fighter: 30th Anniversary Collection\n",
       "939                           RACE 07: Official WTCC Game\n",
       "870                                 Need for Speed: Shift\n",
       "311                                           GRID (2008)\n",
       "2198                               Need for Speed: Carbon\n",
       "3858                                             The Crew\n",
       "Name: Name, dtype: object"
      ]
     },
     "execution_count": 17,
     "metadata": {},
     "output_type": "execute_result"
    }
   ],
   "source": [
    "get_rec(\"Need for Speed: Underground\")"
   ]
  },
  {
   "cell_type": "code",
   "execution_count": 18,
   "id": "96587922",
   "metadata": {},
   "outputs": [
    {
     "data": {
      "text/plain": [
       "1214                    Overwatch 2\n",
       "5754                  Breach (2011)\n",
       "6778         Special Forces: Team X\n",
       "7023                      The Flock\n",
       "2410           Section 8: Prejudice\n",
       "7059                New World Order\n",
       "2759               ShootMania Storm\n",
       "7057                         Rekoil\n",
       "7078                 Sniper Rust VR\n",
       "4045                    Combat Arms\n",
       "5344                        Ravaged\n",
       "897                        Paladins\n",
       "6545                          Purge\n",
       "6731                  Ace of Spades\n",
       "6670               Empire Earth III\n",
       "4890            The Showdown Effect\n",
       "3301      Delta Force: Land Warrior\n",
       "1101            Monday Night Combat\n",
       "1409                  Battlefield V\n",
       "7044    Shadow Harvest: Phantom Ops\n",
       "Name: Name, dtype: object"
      ]
     },
     "execution_count": 18,
     "metadata": {},
     "output_type": "execute_result"
    }
   ],
   "source": [
    "get_rec(\"Overwatch\")"
   ]
  },
  {
   "cell_type": "code",
   "execution_count": 20,
   "id": "c19a746c",
   "metadata": {},
   "outputs": [
    {
     "data": {
      "text/plain": [
       "1746       Fallout 3: Point Lookout\n",
       "1673                        Proteus\n",
       "6590             Escape Dead Island\n",
       "4676                        Pathway\n",
       "1929                   Don't Starve\n",
       "5134    The Magnificent Trufflepigs\n",
       "5471                 Summer in Mara\n",
       "5742                       Betrayer\n",
       "5826              Ryse: Son of Rome\n",
       "6262                Paradise (2006)\n",
       "6774                   Unknown Fate\n",
       "4352                The Red Lantern\n",
       "2808                      Outlast 2\n",
       "5810                Summer Catchers\n",
       "3049                       Event[0]\n",
       "2283                  Tower of Time\n",
       "6718                 We Are Chicago\n",
       "2149              Song in the Smoke\n",
       "6114            Secrets of Raetikon\n",
       "6695               Railroad Pioneer\n",
       "Name: Name, dtype: object"
      ]
     },
     "execution_count": 20,
     "metadata": {},
     "output_type": "execute_result"
    }
   ],
   "source": [
    "get_rec(\"Firewatch\")"
   ]
  },
  {
   "cell_type": "code",
   "execution_count": 19,
   "id": "75578512",
   "metadata": {},
   "outputs": [
    {
     "data": {
      "text/plain": [
       "2310                    Lords of the Realm II\n",
       "2945                                  Manhunt\n",
       "2686                                  Neo Cab\n",
       "39              Grand Theft Auto: San Andreas\n",
       "6101                APB (All Points Bulletin)\n",
       "6463                        INSOMNIA: The Ark\n",
       "3542                      Hitman: Codename 47\n",
       "6023                            Ignite (2011)\n",
       "4926                    Ministry of Broadcast\n",
       "4928                    Tycoon City: New York\n",
       "1043    Gemini Rue: Verschworung auf Barracus\n",
       "5481                         Just Die Already\n",
       "514                   Dragon Age: Inquisition\n",
       "3820                      Need for Speed Heat\n",
       "534                  Aliens Versus Predator 2\n",
       "5641                  Hood: Outlaws & Legends\n",
       "5753              Juiced 2: Hot Import Nights\n",
       "1074              Need for Speed: Underground\n",
       "6658                                 Postal 2\n",
       "3858                                 The Crew\n",
       "Name: Name, dtype: object"
      ]
     },
     "execution_count": 19,
     "metadata": {},
     "output_type": "execute_result"
    }
   ],
   "source": [
    "get_rec(\"Grand Theft Auto V\")"
   ]
  }
 ],
 "metadata": {
  "kernelspec": {
   "display_name": "Python 3 (ipykernel)",
   "language": "python",
   "name": "python3"
  },
  "language_info": {
   "codemirror_mode": {
    "name": "ipython",
    "version": 3
   },
   "file_extension": ".py",
   "mimetype": "text/x-python",
   "name": "python",
   "nbconvert_exporter": "python",
   "pygments_lexer": "ipython3",
   "version": "3.10.8"
  },
  "vscode": {
   "interpreter": {
    "hash": "e0de82564036648738ccdd37ea436545bfe9b2eb6d6ee2e491a2a13a946ce215"
   }
  }
 },
 "nbformat": 4,
 "nbformat_minor": 5
}
